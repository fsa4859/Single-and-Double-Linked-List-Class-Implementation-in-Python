{
  "nbformat": 4,
  "nbformat_minor": 0,
  "metadata": {
    "colab": {
      "name": "Untitled9.ipynb",
      "provenance": []
    },
    "kernelspec": {
      "name": "python3",
      "display_name": "Python 3"
    },
    "language_info": {
      "name": "python"
    }
  },
  "cells": [
    {
      "cell_type": "markdown",
      "source": [
        "Single linked list\n",
        "\n",
        "1- A single linked list consists of nodes.\n",
        "\n",
        "2- Each node is considered a unique seperate object that refers to the next\n",
        "node"
      ],
      "metadata": {
        "id": "ft4GtasABqjY"
      }
    },
    {
      "cell_type": "code",
      "source": [
        "# class implementation of a single linked list.\n",
        "\n",
        "class Node(object):\n",
        "\n",
        "  def __init__(self,value):\n",
        "    \"\"\"\n",
        "    when you initialize an object\n",
        "    you create an object with reference to a variable type\n",
        "    \"\"\"\n",
        "    self.value=value\n",
        "    self.nextnode=None"
      ],
      "metadata": {
        "id": "KTQvIDVxB5iv"
      },
      "execution_count": 1,
      "outputs": []
    },
    {
      "cell_type": "code",
      "source": [
        "# create some nodes and try it\n",
        "\n",
        "a=Node(1)\n",
        "b=Node(2)\n",
        "c=Node(3)"
      ],
      "metadata": {
        "id": "dEKofb_dCw6G"
      },
      "execution_count": 2,
      "outputs": []
    },
    {
      "cell_type": "code",
      "source": [
        "a.nextnode=b\n",
        "b.nextnode=c"
      ],
      "metadata": {
        "id": "X-MA0VhQDCEs"
      },
      "execution_count": 3,
      "outputs": []
    },
    {
      "cell_type": "code",
      "source": [
        "a.nextnode.value"
      ],
      "metadata": {
        "colab": {
          "base_uri": "https://localhost:8080/"
        },
        "id": "dFFTII6rDGkK",
        "outputId": "46fa3e22-6e14-4534-99cc-4d05fbc7eb78"
      },
      "execution_count": 4,
      "outputs": [
        {
          "output_type": "execute_result",
          "data": {
            "text/plain": [
              "2"
            ]
          },
          "metadata": {},
          "execution_count": 4
        }
      ]
    },
    {
      "cell_type": "code",
      "source": [
        "a.value"
      ],
      "metadata": {
        "colab": {
          "base_uri": "https://localhost:8080/"
        },
        "id": "KoIl97iPDITk",
        "outputId": "f0127342-1853-49b6-d622-31ee21437590"
      },
      "execution_count": 5,
      "outputs": [
        {
          "output_type": "execute_result",
          "data": {
            "text/plain": [
              "1"
            ]
          },
          "metadata": {},
          "execution_count": 5
        }
      ]
    },
    {
      "cell_type": "code",
      "source": [
        "b.nextnode.value"
      ],
      "metadata": {
        "colab": {
          "base_uri": "https://localhost:8080/"
        },
        "id": "nQ5KFux0DJs-",
        "outputId": "094f1f78-e024-4214-8117-873e13607451"
      },
      "execution_count": 6,
      "outputs": [
        {
          "output_type": "execute_result",
          "data": {
            "text/plain": [
              "3"
            ]
          },
          "metadata": {},
          "execution_count": 6
        }
      ]
    },
    {
      "cell_type": "markdown",
      "source": [
        "Double linked list \n",
        "\n",
        "1- In double linked list, each node refers to the next and previous node\n",
        "\n",
        "2- Below is a class implementation of double linked list."
      ],
      "metadata": {
        "id": "F6QlAoKBDL2a"
      }
    },
    {
      "cell_type": "code",
      "source": [
        "class DoubleLinkedList(object):\n",
        "\n",
        "  def __init__(self,value):\n",
        "\n",
        "    self.value=value\n",
        "    self.nextnode=None\n",
        "    self.previousnode=None"
      ],
      "metadata": {
        "id": "j3TNriwqEbS_"
      },
      "execution_count": 7,
      "outputs": []
    },
    {
      "cell_type": "code",
      "source": [
        ""
      ],
      "metadata": {
        "id": "bCICRbiyGK7X"
      },
      "execution_count": null,
      "outputs": []
    }
  ]
}